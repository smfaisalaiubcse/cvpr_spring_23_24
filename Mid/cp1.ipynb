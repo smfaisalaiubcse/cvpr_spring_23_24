{
  "nbformat": 4,
  "nbformat_minor": 0,
  "metadata": {
    "colab": {
      "provenance": []
    },
    "kernelspec": {
      "name": "python3",
      "display_name": "Python 3"
    },
    "language_info": {
      "name": "python"
    }
  },
  "cells": [
    {
      "cell_type": "markdown",
      "source": [
        "**List Operations:**\n",
        "1. Create a list of integers containing numbers from 1 to 10.\n",
        "2. Append the square of each number to the list.\n",
        "3. Find and print the sum of all elements in the list."
      ],
      "metadata": {
        "id": "5_6lE25N0J95"
      }
    },
    {
      "cell_type": "code",
      "execution_count": 15,
      "metadata": {
        "colab": {
          "base_uri": "https://localhost:8080/"
        },
        "id": "e9kqltgyxwPe",
        "outputId": "0b892cbe-3fcd-4e7f-a3e2-8147d87bddb9"
      },
      "outputs": [
        {
          "output_type": "stream",
          "name": "stdout",
          "text": [
            "[1, 2, 3, 4, 5, 6, 7, 8, 9, 10]\n",
            "[1, 4, 9, 16, 25, 36, 49, 64, 81, 100]\n",
            "Sum of all elements in the list: 385\n"
          ]
        }
      ],
      "source": [
        "# Create a list of integers containing numbers from 1 to 10.\n",
        "numbers = [1, 2, 3, 4, 5, 6, 7, 8, 9, 10]\n",
        "# numbers = list(range(1, 11)) # Also we can use range function\n",
        "#to do the same\n",
        "\n",
        "print(numbers)\n",
        "\n",
        "# Appending the square of each number to the list.\n",
        "squared_numbers = []\n",
        "for num in numbers:\n",
        "    squared_numbers.append(num ** 2)\n",
        "\n",
        "print(squared_numbers)\n",
        "\n",
        "# Finding and printing the sum of all elements in the list.\n",
        "sum_of_numbers = sum(squared_numbers)\n",
        "print(\"Sum of all elements in the list:\", sum_of_numbers)\n"
      ]
    },
    {
      "cell_type": "markdown",
      "source": [
        "**Tuple Operations:**\n",
        "1.   Create a tuple containing the first five even numbers.\n",
        "2.   Find and print the product of all elements in the tuple.\n",
        "\n",
        "\n"
      ],
      "metadata": {
        "id": "EZjfoKze0fbI"
      }
    },
    {
      "cell_type": "code",
      "source": [
        "# Creating a tuple containing the first five even numbers.\n",
        "even_numbers = (2, 4, 6, 8, 10)\n",
        "\n",
        "# Finding and printing the product of all elements in the tuple.\n",
        "product_of_numbers =  # Here we will store our final result\n",
        "for num in even_numbers:\n",
        "    product_of_numbers *= num\n",
        "\n",
        "print(\"Product of all elements in the tuple:\", product_of_numbers)\n"
      ],
      "metadata": {
        "colab": {
          "base_uri": "https://localhost:8080/"
        },
        "id": "LV6mljOP0xvQ",
        "outputId": "e9813702-0bdf-4e83-dc69-85cd79c013c7"
      },
      "execution_count": 4,
      "outputs": [
        {
          "output_type": "stream",
          "name": "stdout",
          "text": [
            "Product of all elements in the tuple: 3840\n"
          ]
        }
      ]
    },
    {
      "cell_type": "markdown",
      "source": [
        "**Set Operations:**\n",
        "1.   Create two sets of odd numbers between 1 to 10.\n",
        "2.   Find and print the union of the two sets.\n",
        "3.   Find and print the intersection of the two sets."
      ],
      "metadata": {
        "id": "YtsQOLCY1Sfx"
      }
    },
    {
      "cell_type": "code",
      "source": [
        "# Creating two sets of odd numbers between 1 to 10 using loop\n",
        "# every time incrementing the value by +2\n",
        "odd_numbers_set1 = {num for num in range(1, 11, 2)} #{1, 3, 5, 7, 9}\n",
        "\n",
        "odd_numbers_set2 = {num for num in range(1, 8, 2)} #{1, 3, 5, 7}\n",
        "\n",
        "#printing the two sets\n",
        "print(odd_numbers_set1)\n",
        "print(odd_numbers_set2)\n",
        "\n",
        "#Using built in set union and intersection function\n",
        "union_set = odd_numbers_set1.union(odd_numbers_set2)\n",
        "print(\"Union of the two sets:\", union_set)\n",
        "\n",
        "intersection_set = odd_numbers_set1.intersection(odd_numbers_set2)\n",
        "print(\"Intersection of the two sets:\", intersection_set)\n",
        "\n",
        "#Also we can do the same thing using operators\n",
        "print(\"Doing the same thing using operators[and or]\")\n",
        "union_set = odd_numbers_set1 | odd_numbers_set2\n",
        "print(\"Union of the two sets:\", union_set)\n",
        "\n",
        "intersection_set = odd_numbers_set1 & odd_numbers_set2\n",
        "print(\"Intersection of the two sets:\", intersection_set)\n"
      ],
      "metadata": {
        "colab": {
          "base_uri": "https://localhost:8080/"
        },
        "id": "RdVI90uX1jxp",
        "outputId": "1fbeebfe-5888-4c3e-c279-21b01f2a00b4"
      },
      "execution_count": 17,
      "outputs": [
        {
          "output_type": "stream",
          "name": "stdout",
          "text": [
            "{1, 3, 5, 7, 9}\n",
            "{1, 3, 5, 7}\n",
            "Union of the two sets: {1, 3, 5, 7, 9}\n",
            "Intersection of the two sets: {1, 3, 5, 7}\n",
            "Doing the same thing using operators[and or]\n",
            "Union of the two sets: {1, 3, 5, 7, 9}\n",
            "Intersection of the two sets: {1, 3, 5, 7}\n"
          ]
        }
      ]
    },
    {
      "cell_type": "markdown",
      "source": [
        "**Dictionary Operations:**\n",
        "1. Create a dictionary where keys are the first five lowercase alphabets and values are their respective ASCII values.\n",
        "2. Print the dictionary."
      ],
      "metadata": {
        "id": "Dn0xtUGI3CE8"
      }
    },
    {
      "cell_type": "code",
      "source": [
        "# Creating a dictionary where keys are the first five lowercase alphabets\n",
        "# and values are their respective ASCII values\n",
        "ascii_dict = {}\n",
        "for i in range(5):\n",
        "    key = chr(ord('a') + i)\n",
        "    value = ord('a') + i\n",
        "    ascii_dict[key] = value\n",
        "#here ord('a') returns the ascii value of 'a' and in each iteration\n",
        "#i am adding 'i' so that the next char can be obtained\n",
        "\n",
        "# Printing the dictionary\n",
        "print(\"Dictionary:\", ascii_dict)\n"
      ],
      "metadata": {
        "colab": {
          "base_uri": "https://localhost:8080/"
        },
        "id": "Jsdc1miM3MVo",
        "outputId": "7a7ffdd4-a0f7-4948-f67a-929c24c2fe7e"
      },
      "execution_count": 18,
      "outputs": [
        {
          "output_type": "stream",
          "name": "stdout",
          "text": [
            "Dictionary: {'a': 97, 'b': 98, 'c': 99, 'd': 100, 'e': 101}\n"
          ]
        }
      ]
    },
    {
      "cell_type": "markdown",
      "source": [
        "**Functional Programming:**\n",
        "1. Define a function square(x) that returns the square of x.\n",
        "2. Use the map function to apply the square function to each element in a list of integers from 1 to 10 and print the result."
      ],
      "metadata": {
        "id": "hGGkDla83oXw"
      }
    },
    {
      "cell_type": "code",
      "source": [
        "# Defining a function square(x) that returns the square of x\n",
        "def square(x):\n",
        "    return x ** 2\n",
        "\n",
        "# Using the map function to apply the square function to each\n",
        "#element in a list of integers from 1 to 10\n",
        "numbers = list(range(1, 11))\n",
        "squared_numbers = list(map(square, numbers))\n",
        "\n",
        "# Printing the result\n",
        "print(\"Squared numbers:\", squared_numbers)\n"
      ],
      "metadata": {
        "colab": {
          "base_uri": "https://localhost:8080/"
        },
        "id": "QbjcjqMZ32Fu",
        "outputId": "fd463d67-c72a-4f88-b4e2-b0e96830f73f"
      },
      "execution_count": 11,
      "outputs": [
        {
          "output_type": "stream",
          "name": "stdout",
          "text": [
            "Squared numbers: [1, 4, 9, 16, 25, 36, 49, 64, 81, 100]\n"
          ]
        }
      ]
    }
  ]
}
